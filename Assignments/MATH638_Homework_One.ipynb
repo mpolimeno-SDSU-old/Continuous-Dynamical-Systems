{
 "cells": [
  {
   "cell_type": "code",
   "execution_count": 1,
   "metadata": {
    "collapsed": true
   },
   "outputs": [],
   "source": [
    "import numpy as np\n",
    "import matplotlib.pyplot as plt\n",
    "%matplotlib inline"
   ]
  },
  {
   "cell_type": "markdown",
   "metadata": {},
   "source": [
    "# Homework 1"
   ]
  },
  {
   "cell_type": "markdown",
   "metadata": {},
   "source": [
    "Problem 1) Using the model provided, solve the following ODE's and provide plots in Python of their solutions.  \n",
    "\n",
    "### Model Problem and Solution:\n",
    "\n",
    "$$\n",
    "\\dot{x} + 2x = \\sin(t),~ x(0) = 1,\n",
    "$$\n",
    "\n",
    "Noting that $p(t) = 2$, we see that the integrating factor $G(t)$ is \n",
    "\n",
    "$$\n",
    "G(t) = e^{\\int_{0}^{t} 2 du} = e^{2t},\n",
    "$$\n",
    "\n",
    "and thus the solution, using the method of integrating factors, is given by \n",
    "\n",
    "$$\n",
    "x(t) = e^{-2t} + e^{-2t}\\int_{0}^{t}\\sin(u)e^{2u}du. \n",
    "$$\n",
    "\n",
    "Integration by parts readily gives us that\n",
    "\n",
    "\\begin{align}\n",
    "\\int_{0}^{t}\\sin(u)e^{2u}du = & \\frac{1}{2}\\sin(t)e^{2t} - \\frac{1}{2}\\int_{0}^{t}\\cos(u)e^{2u} du\\\\\n",
    "= & \\frac{1}{2}\\sin(t)e^{2t} - \\frac{1}{4}\\left.\\cos(u)e^{2u}\\right|_{0}^{t} - \\frac{1}{4}\\int_{0}^{t}\\sin(u)e^{2u}du\n",
    "\\end{align}\n",
    "\n",
    "so that \n",
    "\n",
    "$$\n",
    "\\int_{0}^{t}\\sin(u)e^{2u}du = \\frac{1}{5}\\left(1 + 2\\sin(t)e^{2t} - \\cos(t)e^{2t} \\right)\n",
    "$$\n",
    "\n",
    "and thus\n",
    "\n",
    "$$\n",
    "x(t) = e^{-2t} + \\frac{1}{5}\\left(e^{-2t} + 2\\sin(t) - \\cos(t) \\right)\n",
    "$$\n",
    "\n",
    "To illustrate this, we use the following code, which provides a plot of $x(t)$ for $0\\leq t \\leq 10$."
   ]
  },
  {
   "cell_type": "code",
   "execution_count": 5,
   "metadata": {},
   "outputs": [
    {
     "name": "stdout",
     "output_type": "stream",
     "text": [
      "2.06115362244e-09\n"
     ]
    },
    {
     "data": {
      "image/png": "[encoded data removed]",
      "text/plain": [
       "<matplotlib.figure.Figure at 0x75dc7fe5f2d0>"
      ]
     },
     "metadata": {},
     "output_type": "display_data"
    }
   ],
   "source": [
    "tvals = np.linspace(0,10,int(1e2))\n",
    "xvals = 6./5.*np.exp(-2.*tvals) + (2.*np.sin(tvals) - np.cos(tvals))/5.\n",
    "\n",
    "plt.plot(tvals,xvals)\n",
    "plt.xlabel('$t$')\n",
    "plt.ylabel('$x(t)$')\n",
    "\n",
    "print np.exp(-20.)"
   ]
  },
  {
   "cell_type": "markdown",
   "metadata": {},
   "source": [
    "Note, that at $t=10$, $e^{-20}\\approx 2 \\times 10^{-9}$, and so we see by that time the solution is essentially given by \n",
    "\n",
    "$$\n",
    "x(t) \\approx \\frac{2}{5}\\sin(t) - \\frac{1}{5}\\cos(t),\n",
    "$$\n",
    "\n",
    "so that the choice of initial condition is rapidly damped out and the problem is then driven by the sinusoidal forcing due to the $\\sin(t)$ term on the right hand side of the ODE.  "
   ]
  },
  {
   "cell_type": "markdown",
   "metadata": {},
   "source": [
    "1a) (5 pts) Solve and plot for $t\\geq 0$.\n",
    "\n",
    "$$\n",
    "\\dot{x} + 3x = \\cos(3t), ~ x(0) = 2\n",
    "$$"
   ]
  },
  {
   "cell_type": "markdown",
   "metadata": {},
   "source": [
    "**Solution for 1a):**\n",
    "\n",
    "Noting that $p(t)$ = 3, the integrating factor $G(t)$ is \n",
    "$$\n",
    "G(t) = e^{\\int_{0}^{t} 3 du} = e^{3t}.\n",
    "$$\n",
    "\n",
    "Therefore, using the method of integrating factors we readily find that the solution to the differential equation is given by\n",
    "\n",
    "$$\n",
    "x(t) = x_0e^{-3t} + e^{-3t}\\int_{0}^{t}\\cos(3u)e^{3u}du, \n",
    "$$\n",
    "where $x_{0}$ is a constant.\n",
    "\n",
    "So, let us consider the integral $\\int_{0}^{t}\\cos(3u)e^{3u}du$. Integration by parts leads to\n",
    "\n",
    "$$\n",
    "\\int_{0}^{t}\\cos(3u)e^{3u}du = e^{3u}\\cos(3u)|_{0}^{t} + \\int_{0}^{t}\\sin(3u)e^{3u}du.\n",
    "$$\n",
    "\n",
    "Performing integration by parts once again, this time on $\\int_{0}^{t}\\sin(3u)e^{3u}du$, leads to\n",
    "\n",
    "$$\n",
    "\\int_{0}^{t}\\sin(3u)e^{3u}du =  e^{3u}\\sin(3u)|_{0}^{t} - \\int_{0}^{t}\\cos(3u)e^{3u}du.\n",
    "$$\n",
    "\n",
    "Therefore, overall, we have\n",
    "\\begin{align}\n",
    "\\int_{0}^{t}\\cos(3u)e^{3u}du = e^{3u}\\cos(3u)|_{0}^{t} + e^{3u}\\sin(3u)|_{0}^{t} - \\int_{0}^{t}\\cos(3u)e^{3u}du\\\\\n",
    "= e^{3t}\\cos(3t) - 1 + e^{3t}\\sin(3t) - \\int_{0}^{t}\\cos(3u)e^{3u}du.\n",
    "\\end{align}\n",
    "\n",
    "Thus we can write\n",
    "\n",
    "$$\n",
    "2 \\int_{0}^{t}\\cos(3u)e^{3u}du = e^{3t}\\cos(3t) - 1 + e^{3t}\\sin(3t),\n",
    "$$\n",
    "\n",
    "and so\n",
    "\n",
    "$$\n",
    "\\int_{0}^{t}\\cos(3u)e^{3u}du = \\frac{1}{2}(e^{3t}\\cos(3t) - 1 + e^{3t}\\sin(3t)).\n",
    "$$\n",
    "\n",
    "Now we can write our solution in the form\n",
    "\n",
    "\\begin{align}\n",
    "x(t) = x_{0}e^{-3t} + e^{-3t}\\left(\\frac{e^{3t}\\cos(3t) - 1 + e^{3t}\\sin(3t)}{2}\\right)\\\\\n",
    "= x_{0}e^{-3t} + \\left(\\frac{\\cos(3t) - e^{-3t} + \\sin(3t)}{2}\\right).\n",
    "\\end{align}\n",
    "\n",
    "Now, by applying the given initial conditon $x(0)=2$, we readily see that\n",
    "\n",
    "$$\n",
    "x_{0} = 2,\n",
    "$$\n",
    "\n",
    "so we can write our solution to this problem as\n",
    "\n",
    "$$\n",
    "x(t) = 2e^{-3t} + \\frac{\\cos(3t) - e^{-3t} + \\sin(3t)}{2},\n",
    "$$\n",
    "\n",
    "or, rearranging it,\n",
    "\n",
    "$$\n",
    "x(t) = \\frac{3}{2}e^{-3t} + \\frac{1}{2}(\\sin(3t)+\\cos(3t)).\n",
    "$$\n",
    "\n",
    "We can now graph this solution and display our results."
   ]
  },
  {
   "cell_type": "code",
   "execution_count": 35,
   "metadata": {},
   "outputs": [
    {
     "name": "stdout",
     "output_type": "stream",
     "text": [
      "7.58256042791e-10\n"
     ]
    },
    {
     "data": {
      "image/png": "[encoded data removed]",
      "text/plain": [
       "<matplotlib.figure.Figure at 0x7c70d9db28d0>"
      ]
     },
     "metadata": {},
     "output_type": "display_data"
    }
   ],
   "source": [
    "tvals = np.linspace(0,10,int(1e2))\n",
    "xvals = 3./2.*np.exp(-3.*tvals) + (np.sin(3.*tvals) + np.cos(3.*tvals))/(2.)\n",
    "\n",
    "plt.plot(tvals,xvals)\n",
    "plt.xlabel('$t$')\n",
    "plt.ylabel('$x(t)$')\n",
    "\n",
    "print np.exp(-21.)"
   ]
  },
  {
   "cell_type": "markdown",
   "metadata": {},
   "source": [
    "We note that at $t=7$, $e^{-21}\\approx 7\\cdot 10^{-10}$, therefore by that time the solution is essentialy given by\n",
    "\n",
    "$$\n",
    "x(t) \\approx \\frac{1}{2}(\\sin(3t)+\\cos(3t)),\n",
    "$$\n",
    "\n",
    "so that the choice of initial condition is rapidly damped out and the problem is therefore driven by the sinusoidal forcing due to the $\\cos(3t)$ term on the right-hand side of the ODE."
   ]
  },
  {
   "cell_type": "markdown",
   "metadata": {},
   "source": [
    "1b) (5 pts) Solve and plot for $t\\geq 1$.\n",
    "\n",
    "$$\n",
    "\\dot{x} + \\frac{x}{t} = \\sin(2t), ~ x(1) = 3\n",
    "$$"
   ]
  },
  {
   "cell_type": "markdown",
   "metadata": {},
   "source": [
    "**Solution for 1b):**\n",
    "\n",
    "Noting that $p(t) = \\frac{1}{t}$, then the integrating factor $G(t)$ is given by\n",
    "\n",
    "$$\n",
    "G(t) = ~ e^{\\int_{1}^{t} \\frac{1}{u} du} = ~ e^{\\ln|t|} = ~ t.\n",
    "$$\n",
    "\n",
    "Therefore, by the method of integrating factors, we write the solution as\n",
    "\n",
    "$$\n",
    "x(t) = \\frac{x_{0}}{t} + \\frac{1}{t}\\int_{1}^{t}u\\sin(2u)du,\n",
    "$$\n",
    "where $x_{0}$ is a constant.\n",
    "\n",
    "Now, first substituting $2u=v$ $\\rightarrow dv=2du$ and therefore $u=v/2$ and then integrating by parts, yields\n",
    "\n",
    "\\begin{align}\n",
    "\\int_{1}^{t}u\\sin(2u)du = \\frac{1}{4}(-2u\\cos(2u)|_{1}^{t} + \\sin(2u)|_{1}^{t})\\\\\n",
    "= \\frac{1}{4}(-2t\\cos(2t)+2\\cos(2)+\\sin(2t)-\\sin(2)).\n",
    "\\end{align}\n",
    "\n",
    "So, our solution $x(t)$ becomes\n",
    "\n",
    "$$\n",
    "x(t) = \\frac{x_{0}}{t} + \\frac{1}{4t}(-2t\\cos(2t)+2\\cos(2)+\\sin(2t)-\\sin(2)),\n",
    "$$\n",
    "\n",
    "with the initial condition $x(1)=3$, we get\n",
    "\n",
    "$$\n",
    "x_{0} = 3.\n",
    "$$\n",
    "\n",
    "Therefore, our solution $x(t)$ is\n",
    "\n",
    "$$\n",
    "x(t) = \\frac{3}{t} + \\frac{1}{4t}(-2t\\cos(2t)+2\\cos(2)+\\sin(2t)-\\sin(2)),\n",
    "$$\n",
    "\n",
    "which can be rearranged as\n",
    "\n",
    "$$\n",
    "x(t) = \\frac{1}{4t}(12+\\sin(2t)-2t\\cos(2t)-\\sin(2)+2\\cos(2)),\n",
    "$$\n",
    "\n",
    "We can now graph our $x(t)$ and display our results"
   ]
  },
  {
   "cell_type": "code",
   "execution_count": 13,
   "metadata": {},
   "outputs": [
    {
     "data": {
      "image/png": "[encoded data removed]",
      "text/plain": [
       "<matplotlib.figure.Figure at 0x796c00797cd0>"
      ]
     },
     "metadata": {},
     "output_type": "display_data"
    }
   ],
   "source": [
    "tvals = np.linspace(1,20,int(1e2))\n",
    "xvals =(1./(4.*tvals))*(12 + np.sin(2.*tvals)-2.*tvals*np.cos(2.*tvals)-np.sin(2.)+2.*np.cos(2.))  \n",
    "\n",
    "plt.plot(tvals,xvals)\n",
    "plt.xlabel('$t$');\n",
    "plt.ylabel('$x(t)$');"
   ]
  },
  {
   "cell_type": "markdown",
   "metadata": {},
   "source": [
    "## Notes on Making Phase Plots in Python\n",
    "\n",
    "In order to make phase plots, we will use the Pyplot command `quiver`.  As an example, we use $\\dot{x}=\\sin(x)$.  Adapt the code below to your own needs.   "
   ]
  },
  {
   "cell_type": "code",
   "execution_count": 14,
   "metadata": {},
   "outputs": [
    {
     "data": {
      "image/png": "[encoded data removed]",
      "text/plain": [
       "<matplotlib.figure.Figure at 0x796c006f3210>"
      ]
     },
     "metadata": {},
     "output_type": "display_data"
    }
   ],
   "source": [
    "Pi = np.pi\n",
    "xvals = np.linspace(-2.*Pi,2.*Pi,90)\n",
    "yvals = np.zeros(xvals.size)\n",
    "xprime = np.sin(xvals)\n",
    "yprime = np.zeros(xvals.size)\n",
    "plt.plot(xvals,np.sin(xvals),ls='--',color='k')\n",
    "plt.quiver(xvals,yvals,xprime,yprime,color='r')\n",
    "plt.xlabel('$x$');"
   ]
  },
  {
   "cell_type": "markdown",
   "metadata": {},
   "source": [
    "Problem 2): (2pts each) 2.1.1, 2.1.2, 2.1.3"
   ]
  },
  {
   "cell_type": "markdown",
   "metadata": {},
   "source": [
    "**Solution for 2.1.1**\n",
    "\n",
    "We have\n",
    "\n",
    "$$\n",
    "\\dot x = \\sin(x).\n",
    "$$\n",
    "\n",
    "Let $\\sin(x)=f(x)$. To find the fixed points, we solve\n",
    "\n",
    "$$\n",
    "f(x) = 0 \\rightarrow \\sin(x) = 0 \\rightarrow x_{\\ast} = 0, n\\pi,\n",
    "$$\n",
    "\n",
    "where $n$ $\\in \\mathbb{Z}$."
   ]
  },
  {
   "cell_type": "markdown",
   "metadata": {},
   "source": [
    "**Solution for 2.1.2**\n",
    "\n",
    "The function $\\sin(x)$ varies from -1 to 1. Therefore, the flow will have the greatest velocity to the right at those points where\n",
    "\n",
    "$$\n",
    "\\sin(x) = 1.\n",
    "$$\n",
    "\n",
    "Therefore,\n",
    "\n",
    "$$\n",
    "x = \\frac{\\pi}{2} + 2\\pi n,\n",
    "$$\n",
    "\n",
    "where $n$ $\\in \\mathbb{Z}$."
   ]
  },
  {
   "cell_type": "markdown",
   "metadata": {},
   "source": [
    "**Solution for 2.1.3**\n",
    "\n",
    "**a)**\n",
    "\n",
    "We have\n",
    "\n",
    "$$\n",
    "\\ddot{x} = \\dot f(x).\n",
    "$$\n",
    "\n",
    "So\n",
    "\n",
    "\\begin{align}\n",
    "\\ddot{x} = \\frac{d}{dt}\\left(\\frac{1}{2}\\sin(2x)\\right)\\\\\n",
    "=\\cos(x)\\dot x\\\\\n",
    "\\end{align}\n",
    "\n",
    "$\\longrightarrow \\ddot{x} =\\frac{1}{2}sin(2x)$.\n",
    "\n",
    "**b)**\n",
    "\n",
    "The function $\\sin(2x)$ varies from -1 to 1. The function $\\frac{1}{2}sin(2x)$ will obviously have half that amplitude. To find the points of greatest acceleration to the right, we just need to solve\n",
    "\n",
    "$$\n",
    "\\frac{1}{2}\\sin(2x) = \\frac{1}{2} \\longrightarrow \\sin(2x) = 1.\n",
    "$$\n",
    "\n",
    "Therefore\n",
    "\n",
    "$$\n",
    "x = \\frac{\\pi}{4} + n\\pi,\n",
    "$$\n",
    "\n",
    "where $n$ $\\in \\mathbb{Z}$."
   ]
  },
  {
   "cell_type": "markdown",
   "metadata": {},
   "source": [
    "Problem 3): (2pts each) 2.2.3, 2.2.4, 2.2.7"
   ]
  },
  {
   "cell_type": "markdown",
   "metadata": {},
   "source": [
    "**Solution for 2.2.3**\n",
    "\n",
    "We have\n",
    "\n",
    "$$\n",
    "\\dot x = x - x^{3} = f(x).\n",
    "$$\n",
    "\n",
    "For the fixed points we solve\n",
    "\n",
    "$$\n",
    "f(x) = 0 \\longrightarrow x = x^{3} \\longrightarrow x_{\\ast} = 0, \\pm 1.\n",
    "$$\n",
    "\n",
    "So we have three fixed points. Now we study their stability.\n",
    "\n",
    "We see that our function $f(x)$ will be greater than $0$, when $x>x^{3}$, which is true for $x<-1$ and $0<x<1$. \n",
    "\n",
    "Whereas $f(x)<0$ for $x<x^{3}$, which is true for $-1<x<0$ and $x>1$.\n",
    "\n",
    "Therefore we have that $x_{\\ast}=0$ is a repelling fixed point, whereas $x_{\\ast}=-1$ and $x_{\\ast}=1$ are both attractive fixed points.\n",
    "\n",
    "We make a phase plot and look at where the arrows on the phase line point to."
   ]
  },
  {
   "cell_type": "code",
   "execution_count": 15,
   "metadata": {
    "scrolled": true
   },
   "outputs": [
    {
     "data": {
      "image/png": "[encoded data removed]",
      "text/plain": [
       "<matplotlib.figure.Figure at 0x796c0062d590>"
      ]
     },
     "metadata": {},
     "output_type": "display_data"
    }
   ],
   "source": [
    "#phase plot for 2.2.3\n",
    "xvals = np.linspace(-1.5,1.5,90)\n",
    "yvals = np.zeros(xvals.size)\n",
    "xprime = xvals - xvals**3\n",
    "yprime = np.zeros(xvals.size)\n",
    "plt.plot(xvals,xvals-xvals**3,ls='--',color='b')\n",
    "plt.quiver(xvals,yvals,xprime,yprime,color='r')\n",
    "plt.xlabel('$x$');"
   ]
  },
  {
   "cell_type": "markdown",
   "metadata": {},
   "source": [
    "So we see that $x_{\\ast}=0$ is a repelling fixed point (arrows pointing away), whereas $x_{\\ast}=-1$ and $x_{\\ast}=1$ are both attractive fixed points (arrows pointing torwards), as expected from our analysis.\n",
    "\n",
    "Since the ODE is reasonably simple, we can solve it analitically.\n",
    "\n",
    "$$\n",
    "\\frac{dx}{dt} = x - x^{3} \\longrightarrow \\int\\frac{1}{x(1-x^2)} = t+C_{0}.\n",
    "$$\n",
    "\n",
    "We perform partial fraction decomposition to solve the integral\n",
    "\n",
    "$$\n",
    "\\frac{1}{x(1-x^2)} = \\frac{A}{x} + \\frac{Bx + C}{(1-x^2)} \\longrightarrow A(1-x^2)+Bx^{2}+Cx=1,\n",
    "$$\n",
    "\n",
    "from which, after a little algebra and equating the coefficients, we readily find\n",
    "\\begin{align}\n",
    "A=1\\\\\n",
    "B=1\\\\\n",
    "C=0.\n",
    "\\end{align}\n",
    "\n",
    "Therefore our integral becomes\n",
    "\n",
    "$$\n",
    "\\int\\frac{1}{x}+\\frac{x}{1-x^{2}}dx = t+C_{0},\n",
    "$$\n",
    "\n",
    "which yields\n",
    "\n",
    "$$\n",
    "\\ln\\left|\\frac{x}{(1-x^2)^{\\frac{1}{2}}}\\right| = t+C_{0} \\longrightarrow \\frac{x}{\\sqrt{1-x^2}} = C_{1}e^{t},\n",
    "$$\n",
    "\n",
    "where $C_{1}$ is just the new constant. From here we can derive a formula for $x(t)$, found to be \n",
    "\n",
    "$$\n",
    "x(t) = \\sqrt{\\frac{C_{2}e^{2t}}{1+C_{2}e^{2t}}}.\n",
    "$$\n",
    "\n",
    "Let us impose $x(0) = 2$, so that $C_{2}=-\\frac{4}{3}$ and we can graph our solution for this initial condition."
   ]
  },
  {
   "cell_type": "code",
   "execution_count": 7,
   "metadata": {},
   "outputs": [
    {
     "data": {
      "image/png": "[encoded data removed]",
      "text/plain": [
       "<matplotlib.figure.Figure at 0x75dc7fd6a510>"
      ]
     },
     "metadata": {},
     "output_type": "display_data"
    }
   ],
   "source": [
    "tvals = np.linspace(1,20,int(1e2))\n",
    "xvals = np.sqrt(((-4./3.)*np.exp(2.*tvals))/(1.-(4./3.)*np.exp(2.*tvals)))\n",
    "\n",
    "plt.plot(tvals,xvals)\n",
    "plt.xlabel('$t$');\n",
    "plt.ylabel('$x(t)$');\n",
    "plt.title('Solution of 2.2.3 for x(0)=2');"
   ]
  },
  {
   "cell_type": "markdown",
   "metadata": {},
   "source": [
    "As expected, $x(t)$ decays exponentially."
   ]
  },
  {
   "cell_type": "markdown",
   "metadata": {},
   "source": [
    "**Solution for 2.2.4**\n",
    "\n",
    "We have\n",
    "\n",
    "$$\n",
    "\\dot x = e^{-x}\\sin{x} = f(x).\n",
    "$$\n",
    "\n",
    "To find the fixed points, we solve\n",
    "\n",
    "$$\n",
    "e^{-x}\\sin{x} =  0.\n",
    "$$\n",
    "\n",
    "Now, as $e^{-x}>0$ for any $x \\in \\mathbb{R}$, then the fixed points for our function will coincide with those of $\\sin(x)$. So\n",
    "\n",
    "$$\n",
    "x_{\\ast} = 0, ~ n\\pi,\n",
    "$$\n",
    "\n",
    "where $n \\in \\mathbb{Z}$.\n",
    "\n",
    "Again, since $e^{-x}>0$ for any $x \\in \\mathbb{R}$, then the sign of $f(x)$ will depend exclusively from $\\sin(x)$.\n",
    "\n",
    "We know that $\\sin(x) > 0$, for $0<x<\\pi$,\n",
    "\n",
    "whereas $\\sin(x) < 0$, for $\\pi<x<2\\pi$,\n",
    "\n",
    "Therefore, for our fixed points\n",
    "\n",
    "$$\n",
    "x_{\\ast} = 0, ~ n\\pi,\n",
    "$$\n",
    "\n",
    "for an even $n$ and for $n=0$, we will have repelling fixed points.\n",
    "\n",
    "Whereas, for an odd $n$, we will have attractive fixed points.\n",
    "\n",
    "We make a phase plot to show our results."
   ]
  },
  {
   "cell_type": "code",
   "execution_count": 66,
   "metadata": {},
   "outputs": [
    {
     "data": {
      "image/png": "[encoded data removed]",
      "text/plain": [
       "<matplotlib.figure.Figure at 0x7c70da215810>"
      ]
     },
     "metadata": {},
     "output_type": "display_data"
    }
   ],
   "source": [
    "#phase plot for 2.2.4\n",
    "Pi = np.pi\n",
    "xvals = np.linspace(-Pi,2.*Pi,90)\n",
    "yvals = np.zeros(xvals.size)\n",
    "xprime = np.exp(-xvals)*np.sin(xvals)\n",
    "yprime = np.zeros(xvals.size)\n",
    "plt.plot(xvals,np.exp(-xvals)*np.sin(xvals),ls='--',color='b')\n",
    "plt.quiver(xvals,yvals,xprime,yprime,color='r')\n",
    "plt.xlabel('$x$');"
   ]
  },
  {
   "cell_type": "markdown",
   "metadata": {},
   "source": [
    "**Solution for 2.2.7**\n",
    "\n",
    "So we have\n",
    "\n",
    "$$\n",
    "\\dot x = e^{x} - \\cos(x) = f(x).\n",
    "$$\n",
    "\n",
    "We will not try to solve this function analytically, but we can perform some analysis by looking at its components as $x$ varies.\n",
    "\n",
    "We know that $\\cos(x)<0$ for $\\frac{\\pi}{2} < x < \\frac{3\\pi}{2}$. Thus, since $e^{x}>0$ for any $x\\in\\mathbb{R}$, then $f(x)>0$ in that interval. \n",
    "\n",
    "Also, for any $x \\in \\mathbb{R}^{+}$ $e^{x}>\\cos{x}$, therefore $f(x)>0$ for those $x$'s. Moreover\n",
    "\n",
    "$$\n",
    "e^{0}=1=\\cos(0),\n",
    "$$\n",
    "\n",
    "which means that $f(x)=0$ for $x=0$ and thus $x=0$ is a fixed point.\n",
    "\n",
    "We make a phase plot to show our results."
   ]
  },
  {
   "cell_type": "code",
   "execution_count": 47,
   "metadata": {},
   "outputs": [
    {
     "data": {
      "image/png": "[encoded data removed]",
      "text/plain": [
       "<matplotlib.figure.Figure at 0x7c70d9d35350>"
      ]
     },
     "metadata": {},
     "output_type": "display_data"
    }
   ],
   "source": [
    "#phase plot for 2.2.7\n",
    "Pi = np.pi\n",
    "xvals = np.linspace(-8.5*Pi,2,120)\n",
    "yvals = np.zeros(xvals.size)\n",
    "xprime = np.exp(xvals)-np.cos(xvals)\n",
    "yprime = np.zeros(xvals.size)\n",
    "plt.plot(xvals,np.exp(xvals)-np.cos(xvals),ls='--',color='b')\n",
    "plt.quiver(xvals,yvals,xprime,yprime,color='r')\n",
    "plt.xlabel('$x$');"
   ]
  },
  {
   "cell_type": "markdown",
   "metadata": {},
   "source": [
    "We easily see that $x_{\\ast}=0$ is a repelling fixed point. Then there seems to be an attractive fixed point at around $x_{\\ast}=1.3$ and then we also notice an alternation between attractivity and repulsion roughly every $n\\pi + 1.3$, where $n \\in \\mathbb{Z}^{-}$."
   ]
  },
  {
   "cell_type": "markdown",
   "metadata": {},
   "source": [
    "Problem 4) (2pts for each part) 2.2.13"
   ]
  },
  {
   "cell_type": "markdown",
   "metadata": {},
   "source": [
    "**Solution for Part a**\n",
    "\n",
    "So we are told that the velocity $v(t)$ of a skydiver falling to the ground is governed by the following non-linear ODE\n",
    "\n",
    "$$\n",
    "m \\dot v = mg -kv^{2},\n",
    "$$\n",
    "where $m$ is the mass of the skydiver, $g$ is the acceleration due to gravity and $k>0$ is a constant related to the amount of air resistance. Also, we are told that $v(0)=0$.\n",
    "To solve this ODE we proceed as follows\n",
    "\n",
    "$$\n",
    "\\dot v = g - \\frac{k}{m}v^2 \\longrightarrow \\frac{dv}{dt} = g - \\frac{k}{m}v^2.\n",
    "$$\n",
    "\n",
    "From here we separate the variables, which yields\n",
    "\n",
    "$$\n",
    "\\int\\frac{dv}{g-\\frac{k}{m}v^{2}} = \\int dt.\n",
    "$$\n",
    "\n",
    "Obviously, $\\int dt$ yields $t + C$, where $C$ is a constant.\n",
    "\n",
    "Thus, we have to focus our efforts on\n",
    "\n",
    "$$\n",
    "\\int\\frac{dv}{g-\\frac{k}{m}v^{2}}.\n",
    "$$\n",
    "\n",
    "For simplicity in the notation, let us call\n",
    "\n",
    "$$\n",
    "\\frac{k}{m} = b,\n",
    "$$\n",
    "\n",
    "and re-write the integral as\n",
    "\n",
    "$$\n",
    "\\int\\frac{dv}{g-bv^{2}}.\n",
    "$$\n",
    "\n",
    "Now, by doing a little rearrangement, we get\n",
    "\n",
    "$$\n",
    "-\\frac{1}{b}\\int\\frac{1}{v^{2}-\\frac{g}{b}}dv \\longrightarrow -\\frac{1}{b}\\int\\frac{1}{\\left(v+\\frac{\\sqrt{g}}{\\sqrt{b}}\\right)\\left(v-\\frac{\\sqrt{g}}{\\sqrt{b}}\\right)}.\n",
    "$$\n",
    "\n",
    "To solve this, we need to do a partial fraction decomposition\n",
    "\n",
    "$$\n",
    "\\frac{1}{\\left(v+\\frac{\\sqrt{g}}{\\sqrt{b}}\\right)\\left(v-\\frac{\\sqrt{g}}{\\sqrt{b}}\\right)} = \n",
    "\\frac{A}{\\left(v+\\frac{\\sqrt{g}}{\\sqrt{b}}\\right)} + \\frac{B}{\\left(v-\\frac{\\sqrt{g}}{\\sqrt{b}}\\right)},\n",
    "$$\n",
    "where $A$ and $B$ are constants to be determined.\n",
    "\n",
    "After simplification, we get\n",
    "\n",
    "$$\n",
    "A\\left(v-\\frac{\\sqrt{g}}{\\sqrt{b}}\\right) + B\\left(v+\\frac{\\sqrt{g}}{\\sqrt{b}}\\right) = 1,\n",
    "$$\n",
    "$$\n",
    "(A+B)v + \\frac{\\sqrt{g}}{\\sqrt{b}}(B-A) = 1.\n",
    "$$\n",
    "\n",
    "Equating the coefficients yields to the following system of equations\n",
    "\n",
    "\\begin{align}\n",
    "A+B = 0 \\\\\n",
    "\\frac{\\sqrt{g}}{\\sqrt{b}}(B-A) = 1,\n",
    "\\end{align}\n",
    "\n",
    "which yields\n",
    "\n",
    "$A=-\\left(\\frac{1}{2}\\right)\\frac{\\sqrt{b}}{\\sqrt{g}}, ~ B=\\left(\\frac{1}{2}\\right)\\frac{\\sqrt{b}}{\\sqrt{g}}$.\n",
    "\n",
    "Therefore, our original integral\n",
    "$$\n",
    "-\\frac{1}{b}\\int\\frac{1}{v^{2}-\\frac{g}{b}}dv,\n",
    "$$\n",
    "\n",
    "can now be written\n",
    "\n",
    "$$\n",
    "-\\frac{1}{b}\\int-\\frac{\\sqrt{b}}{2\\cdot\\sqrt{g}\\left(v+\\frac{\\sqrt{g}}{\\sqrt{b}}\\right)} + \\frac{\\sqrt{b}}{2\\cdot\\sqrt{g}\\left(v-\\frac{\\sqrt{g}}{\\sqrt{b}}\\right)}.\n",
    "$$\n",
    "\n",
    "This integral can now readily be solved and, after plugging back $\\frac{k}{m}$ in place of $b$ and making the appropriate simplifications, we get\n",
    "\n",
    "$$\n",
    "\\sqrt{m}\\left(\\frac{\\ln\\left|v+\\sqrt\\frac{mg}{k}\\right| - \\ln\\left|v-\\sqrt\\frac{mg}{k}\\right|}{2\\cdot\\sqrt{gk}}\\right) = t + C.\n",
    "$$\n",
    "\n",
    "Multiplying both sides by $\\frac{2\\cdot\\sqrt{gk}}{\\sqrt{m}}$ and applying the property of logarithms for which $\\ln(x) - \\ln(y) = \\ln\\frac{x}{y}$, yields\n",
    "\n",
    "$$\n",
    "\\ln\\left|\\frac{v+\\sqrt{mg/k}}{v-\\sqrt{mg/k}}\\right| = 2\\cdot\\sqrt{\\frac{gk}{m}}t + C_{1},\n",
    "$$\n",
    "\n",
    "where $C_{1}=C\\cdot\\frac{2\\cdot\\sqrt{gk}}{\\sqrt{m}}$.\n",
    "\n",
    "From here we get\n",
    "$$\n",
    "\\frac{v+\\sqrt{mg/k}}{v-\\sqrt{mg/k}} = C_{2}e^{2\\cdot\\sqrt\\frac{gk}{m}t},\n",
    "$$\n",
    "\n",
    "where $C_{2}$ is just the new constant.\n",
    "\n",
    "We need to solve for $v$. For simplicity in the notation let us call\n",
    "$$\n",
    "\\sqrt\\frac{gk}{m} = r.\n",
    "$$\n",
    "\n",
    "So now we get \n",
    "\n",
    "$$\n",
    "v+\\sqrt{mg/k} = C_{2}e^{2rt}\\left(v-\\sqrt{mg/k}\\right),\n",
    "$$\n",
    "\n",
    "which can be solved by doing some algebra and yields\n",
    "\n",
    "$$\n",
    "v(t) = \\frac{\\sqrt{\\frac{mg}{k}}\\left(C_{2}e^{2rt}+1\\right)}{C_{2}e^{2rt}-1}.\n",
    "$$\n",
    "\n",
    "W are given that $v(0)=0$, therefore, in order to find $C_{2}$ we plug in $t=0$\n",
    "\n",
    "$$\n",
    "\\frac{\\sqrt{\\frac{mg}{k}}\\left(C_{2}+1\\right)}{C_{2}-1} = 0 \\longrightarrow C_{2} = -1.\n",
    "$$\n",
    "\n",
    "Thus, finally, we get our formula for the velocity as\n",
    "\n",
    "$$\n",
    "v(t) = \\frac{\\sqrt{\\frac{mg}{k}}\\left(-e^{2rt}+1\\right)}{-e^{2rt}-1} = -\\sqrt{\\frac{mg}{k}}\\frac{(1-e^{2rt})}{(1+e^{2rt})}\\longrightarrow v(t) = \\sqrt{\\frac{mg}{k}}\\frac{(e^{2rt}-1)}{(e^{2rt}+1)}\n",
    "$$\n",
    "\n",
    "Let us do some rearrangement\n",
    "$$\n",
    "v(t) = \\left(\\sqrt{\\frac{mg}{k}}\\right)\\frac{(e^{2rt}-1)}{(e^{2rt}+1)} = \\left(\\sqrt{\\frac{mg}{k}}\\right)\\frac{e^{rt}(e^{rt}-e^{-rt})}{e^{rt}(e^{rt}+e^{-rt})},\n",
    "$$\n",
    "\n",
    "therefore we finally have\n",
    "\n",
    "$$\n",
    "v(t) = \\sqrt{\\frac{mg}{k}}\\left(\\frac{e^{rt}-e^{-rt}}{e^{rt}+e^{-rt}}\\right),\n",
    "$$\n",
    "\n",
    "where\n",
    "$$\n",
    "\\left(\\frac{e^{rt}-e^{-rt}}{e^{rt}+e^{-rt}}\\right) = \\tanh(rt).\n",
    "$$\n",
    "\n",
    "Thus, the velocity of a skydiver falling to the ground varies like an hyperbolic tangent multiplied by a constant of $\\sqrt{\\frac{mg}{k}}$. "
   ]
  },
  {
   "cell_type": "markdown",
   "metadata": {},
   "source": [
    "**Solution for Part b**\n",
    "\n",
    "To find the terminal velocity we take the limit of $v(t)$ as $t\\rightarrow\\infty$\n",
    "\n",
    "$$\n",
    "\\lim_{t\\rightarrow\\infty}v(t) = \\sqrt{\\frac{mg}{k}}\\lim_{t\\rightarrow\\infty}\\left(\\frac{e^{rt}-e^{-rt}}{e^{rt}+e^{-rt}}\\right),\n",
    "$$\n",
    "\n",
    "multypling the right-hand side by \n",
    "$$\n",
    "\\frac{e^{-rt}}{e^{-rt}},\n",
    "$$ \n",
    "\n",
    "yields\n",
    "\n",
    "$$\n",
    "\\sqrt{\\frac{mg}{k}}\\lim_{t\\rightarrow\\infty}\\left(\\frac{1-e^{-2rt}}{1+e^{-2rt}}\\right).\n",
    "$$\n",
    "\n",
    "As $t\\rightarrow\\infty$, $e^{-2rt}\\rightarrow 0$, therefore\n",
    "\n",
    "$$\n",
    "\\lim_{t\\rightarrow\\infty}v(t) = \\sqrt{\\frac{mg}{k}},\n",
    "$$\n",
    "\n",
    "which is the $\\textit{terminal velocity}$."
   ]
  },
  {
   "cell_type": "markdown",
   "metadata": {},
   "source": [
    "**Solution for Part c**\n",
    "\n",
    "We can build some geometric intuition around our results. First of all let us find the fixed points for\n",
    "\n",
    "$$\n",
    "\\dot v(t) = f(v).\n",
    "$$\n",
    "\n",
    "So,\n",
    "$$\n",
    "f(v) = 0 \\Longleftrightarrow g - \\frac{k}{m}v^{2} = 0\n",
    "$$\n",
    "\n",
    "and therefore\n",
    "\n",
    "$$\n",
    "v = \\pm \\sqrt{\\frac{mg}{k}}.\n",
    "$$\n",
    "\n",
    "Therefore we can see that the $\\textit{terminal velocity}$ found in Part b is one of the two fixed points (the other being its negative).\n",
    "To study the stability of such points we solve\n",
    "\n",
    "$$\n",
    "f(v) > 0 \\Longleftrightarrow g - \\frac{k}{m}v^{2} > 0 \\Longleftrightarrow \\frac{k}{m}v^{2} - g < 0.\n",
    "$$\n",
    "\n",
    "We have a discriminant $\\Delta = \\frac{4gk}{m} > 0$, since $g,k,m>0$, therefore, we have real and distinct solutions (as found already). Also, given the verse of the inequality (<) we get solutions\n",
    "\n",
    "$$\n",
    "v_{(-)} < v < v_{(+)},\n",
    "$$\n",
    "\n",
    "which means that $\\dot v > 0$ for \n",
    "\n",
    "$$\n",
    "-\\sqrt{\\frac{mg}{k}}< v < \\sqrt{\\frac{mg}{k}}\n",
    "$$\n",
    "and is less than zero otherwise.\n",
    "\n",
    "So, we have that \n",
    "\n",
    "$$\n",
    "v = \\sqrt{\\frac{mg}{k}}\n",
    "$$\n",
    "is an attractive fixed point; whereas\n",
    "\n",
    "$$\n",
    "v = -\\sqrt{\\frac{mg}{k}}\n",
    "$$\n",
    "is a repelling fixed point.\n",
    "\n",
    "In this problem, we are not working with vectors so we are not interested in the direction of the velocity (we were only given scalars), therefore, our negative root does not really make any physical sense.\n",
    "\n",
    "We can provide a phase plot to illustrate our results."
   ]
  },
  {
   "cell_type": "code",
   "execution_count": 20,
   "metadata": {},
   "outputs": [
    {
     "data": {
      "image/png": "[encoded data removed]",
      "text/plain": [
       "<matplotlib.figure.Figure at 0x7c70d9fedb90>"
      ]
     },
     "metadata": {},
     "output_type": "display_data"
    }
   ],
   "source": [
    "#phase plot for Part c\n",
    "m = m\n",
    "g = g\n",
    "k = k\n",
    "vvals = np.linspace(-300,300,90)\n",
    "yvals = np.zeros(vvals.size)\n",
    "vprime = g - (k/m)*vvals**2\n",
    "yprime = np.zeros(vvals.size)\n",
    "plt.plot(vvals,g - (k/m)*vvals**2,ls='--',color='b')\n",
    "plt.quiver(vvals,yvals,vprime,yprime,color='r')\n",
    "plt.xlabel('$v$');\n",
    "plt.title('Phase plot for $\\dotv$');"
   ]
  },
  {
   "cell_type": "markdown",
   "metadata": {},
   "source": [
    "So we see that the terminal velocity is around $v=270$ and, as expected, it is an attractive fixed point. At $v\\approx -270$ we have a repellinh fixed point.\n",
    "\n",
    "We can also graph $v(t)$"
   ]
  },
  {
   "cell_type": "code",
   "execution_count": 76,
   "metadata": {},
   "outputs": [
    {
     "data": {
      "image/png": "[encoded data removed]",
      "text/plain": [
       "<matplotlib.figure.Figure at 0x7c70d9b21e50>"
      ]
     },
     "metadata": {},
     "output_type": "display_data"
    }
   ],
   "source": [
    "from scipy.integrate import odeint\n",
    "m = m\n",
    "g = g\n",
    "k = k\n",
    "\n",
    "# function that returns dv/dt\n",
    "def model(v,t):\n",
    "    dvdt = g - (k/m)*v**2\n",
    "    return dvdt\n",
    "\n",
    "# initial condition\n",
    "v0 = 0\n",
    "\n",
    "# time points\n",
    "t = np.linspace(0,120)\n",
    "\n",
    "# solve ODE\n",
    "v = odeint(model,v0,t)\n",
    "\n",
    "# plot results\n",
    "plt.plot(t,v)\n",
    "plt.xlabel('$t$')\n",
    "plt.ylabel('$v(t)$')\n",
    "plt.title('Graph of the velocity of a skydiver falling to the ground');"
   ]
  },
  {
   "cell_type": "markdown",
   "metadata": {},
   "source": [
    "**Solution to Part d**\n",
    "\n",
    "To compute the average velocity $V_{avg}$ we simply do\n",
    "\n",
    "$$\n",
    "V_{avg} = \\frac{\\Delta s}{\\Delta t},\n",
    "$$\n",
    "\n",
    "where $s$ is the distance fallen.\n",
    "We are given that $m$=261.2$lbs$, $g$=32.2$ft/sec^{2}$ and that the long free fall from 31,400$ft$ to 2,100$ft$ took 116 seconds. Therefore\n",
    "\n",
    "$$\n",
    "V_{avg} = \\frac{31,400ft-2,100ft}{116 sec} \\approx252.586 \\frac{ft}{sec}\n",
    "$$"
   ]
  },
  {
   "cell_type": "markdown",
   "metadata": {},
   "source": [
    "**Solution to Part e**\n",
    "\n",
    "To estimate the terminal velocity we first need to derive an exact formula for the distance fallen $s$, given that $\\dot s = v$. Therefore we have\n",
    "\n",
    "$$\n",
    "\\frac{ds}{dt} = \\sqrt{\\frac{mg}{k}}\\left(\\frac{e^{rt}-e^{-rt}}{e^{rt}+e^{-rt}}\\right)\n",
    "$$\n",
    "\n",
    "which yields\n",
    "\n",
    "$$\n",
    "s = \\sqrt{\\frac{mg}{k}}\\int\\tanh(rt)dt,\n",
    "$$\n",
    "\n",
    "where\n",
    "$$\n",
    "r = \\sqrt{\\frac{gk}{m}}\n",
    "$$\n",
    "from Part a.\n",
    "\n",
    "For simplicity in the notation let us notice that $\\sqrt{\\frac{mg}{k}}$ is the therminal velocity and let us call it $V$.\n",
    "\n",
    "By making a u-substitution\n",
    "$$\n",
    "rt = u \\rightarrow du =rdt,\n",
    "$$\n",
    "\n",
    "our integral becomes\n",
    "\n",
    "$$\n",
    "s = \\frac{V}{r}\\int\\tanh(u)du,\n",
    "$$\n",
    "\n",
    "$$\n",
    "= \\frac{V}{r}\\ln(\\cosh(u)),\n",
    "$$\n",
    "\n",
    "$$\n",
    "= \\frac{V}{r}\\ln(\\cosh(rt)),\n",
    "$$\n",
    "\n",
    "therefore we have\n",
    "\n",
    "$$\n",
    "s = \\frac{V}{r}\\ln(\\cosh(rt)).\n",
    "$$\n",
    "\n",
    "Let us do some simplifications to \"get rid\" of $r$.\n",
    "\n",
    "So, since\n",
    "\n",
    "$$\n",
    "V = \\sqrt{\\frac{mg}{k}},\n",
    "$$\n",
    "\n",
    "then\n",
    "\n",
    "$$\n",
    "m = \\frac{kV^{2}}{g}.\n",
    "$$\n",
    "\n",
    "Then\n",
    "\n",
    "$$\n",
    "r = \\sqrt{\\frac{gk}{m}} = \\sqrt{\\frac{gk}{kV^{2}/g}} = \\frac{g}{V}.\n",
    "$$\n",
    "\n",
    "Thus\n",
    "\n",
    "$$\n",
    "s = \\frac{V}{g/V}\\ln\\left(\\cosh\\left(\\frac{gt}{V}\\right)\\right) \\longrightarrow s = \\frac{V^{2}}{g}\\ln\\left(\\cosh\\left(\\frac{gt}{V}\\right)\\right)\n",
    "$$\n",
    "\n",
    "Now that we have our formula for $s$, we can compute the terminal velocity numerically."
   ]
  },
  {
   "cell_type": "code",
   "execution_count": 78,
   "metadata": {},
   "outputs": [
    {
     "name": "stdout",
     "output_type": "stream",
     "text": [
      "The terminal velocity is V = 265.685481 ft/sec\n"
     ]
    }
   ],
   "source": [
    "from scipy.optimize import fsolve\n",
    "g = 32.2\n",
    "s = 29300\n",
    "t = 116\n",
    "\n",
    "#define function\n",
    "func = lambda v : ((v**2)/g)*np.log(np.cosh((g*t)/v)) - s\n",
    "\n",
    "#provide reasonable initial guess for v\n",
    "v_initial_guess = 270 #the initial guess is the terminal velocity found from\n",
    "                    #the graphical analysis in Part c\n",
    "v_solution = fsolve(func, v_initial_guess)\n",
    "\n",
    "print \"The terminal velocity is V = %f ft/sec\" % v_solution"
   ]
  },
  {
   "cell_type": "markdown",
   "metadata": {},
   "source": [
    "Now, with that estimate of the terminal velocity we can derive $k$, using the data given in Part d.\n",
    "\n",
    "$$\n",
    "k = \\frac{mg}{V^{2}} \\longrightarrow k = \\frac{261.2 lbs \\cdot 32.2 ft/sec^{2}}{(265.685 ft/sec)^{2}},  \n",
    "$$\n",
    "\n",
    "which yields\n",
    "\n",
    "$$\n",
    "k \\approx 0.11915 \\frac{lbs}{ft}.\n",
    "$$\n",
    "\n",
    "We can now graph the velocity $v(t)$ with the given data and the value of $k$ just found."
   ]
  },
  {
   "cell_type": "code",
   "execution_count": 79,
   "metadata": {},
   "outputs": [
    {
     "data": {
      "image/png": "[encoded data removed]",
      "text/plain": [
       "<matplotlib.figure.Figure at 0x7c70d9c18f90>"
      ]
     },
     "metadata": {},
     "output_type": "display_data"
    }
   ],
   "source": [
    "m = 261.2;\n",
    "g = 32.2;\n",
    "k = 0.11915;\n",
    "r = np.sqrt((g*k)/m);\n",
    "tvals = np.linspace(0,116,int(1e2))\n",
    "vvals = np.sqrt((m*g)/k)*(np.tanh(r*tvals))\n",
    "plt.plot(tvals,vvals)\n",
    "plt.xlabel('$t$')\n",
    "plt.ylabel('$v(t)$')\n",
    "plt.title('Graph of the velocity of a skydiver falling to the ground');"
   ]
  },
  {
   "cell_type": "markdown",
   "metadata": {},
   "source": [
    "We see that the above graph resembles the one from the graphical analysis done in Part c."
   ]
  }
 ],
 "metadata": {
  "kernelspec": {
   "display_name": "Python 2",
   "language": "python",
   "name": "python2"
  },
  "language_info": {
   "codemirror_mode": {
    "name": "ipython",
    "version": 2
   },
   "file_extension": ".py",
   "mimetype": "text/x-python",
   "name": "python",
   "nbconvert_exporter": "python",
   "pygments_lexer": "ipython2",
   "version": "2.7.14"
  }
 },
 "nbformat": 4,
 "nbformat_minor": 2
}
